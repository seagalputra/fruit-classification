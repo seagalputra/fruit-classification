{
  "nbformat": 4,
  "nbformat_minor": 0,
  "metadata": {
    "colab": {
      "name": "fruit_classification.ipynb",
      "version": "0.3.2",
      "provenance": [],
      "collapsed_sections": [],
      "include_colab_link": true
    },
    "kernelspec": {
      "name": "python3",
      "display_name": "Python 3"
    },
    "accelerator": "GPU"
  },
  "cells": [
    {
      "cell_type": "markdown",
      "metadata": {
        "id": "view-in-github",
        "colab_type": "text"
      },
      "source": [
        "<a href=\"https://colab.research.google.com/github/seagalputra/fruit-classification/blob/master/fruit_classification.ipynb\" target=\"_parent\"><img src=\"https://colab.research.google.com/assets/colab-badge.svg\" alt=\"Open In Colab\"/></a>"
      ]
    },
    {
      "metadata": {
        "id": "GXXW-6UIVHr9",
        "colab_type": "text"
      },
      "cell_type": "markdown",
      "source": [
        "# Fruit Classification using VGG16\n",
        "\n",
        "Nama : Dwiferdio Seagal Putra\n",
        "\n",
        "NIM : 1301154323"
      ]
    },
    {
      "metadata": {
        "id": "BweCiY7EVm0z",
        "colab_type": "text"
      },
      "cell_type": "markdown",
      "source": [
        "### 0. Preparation\n",
        "Tahap awal sebelum memulai pembuatan model, diperlukan akses ke masing-masing *storage* dari *local* maupun *cloud*\n",
        "\n",
        "\n",
        "---\n",
        "\n",
        "Jika menggunakan Google Colab untuk menjalankan *notebook* ini, jalankan *cell* dibawah ini untuk mendapatkan akses ke google drive masing-masing"
      ]
    },
    {
      "metadata": {
        "id": "OleqPhSgZzac",
        "colab_type": "code",
        "outputId": "62f8c80d-2f48-44ea-edf3-4935e1eea6ff",
        "colab": {
          "base_uri": "https://localhost:8080/",
          "height": 122
        }
      },
      "cell_type": "code",
      "source": [
        "# Load drive helper and mount\n",
        "from google.colab import drive\n",
        "\n",
        "# Prompt authorization\n",
        "drive.mount('/content/gdrive')"
      ],
      "execution_count": 0,
      "outputs": [
        {
          "output_type": "stream",
          "text": [
            "Go to this URL in a browser: https://accounts.google.com/o/oauth2/auth?client_id=947318989803-6bn6qk8qdgf4n4g3pfee6491hc0brc4i.apps.googleusercontent.com&redirect_uri=urn%3Aietf%3Awg%3Aoauth%3A2.0%3Aoob&scope=email%20https%3A%2F%2Fwww.googleapis.com%2Fauth%2Fdocs.test%20https%3A%2F%2Fwww.googleapis.com%2Fauth%2Fdrive%20https%3A%2F%2Fwww.googleapis.com%2Fauth%2Fdrive.photos.readonly%20https%3A%2F%2Fwww.googleapis.com%2Fauth%2Fpeopleapi.readonly&response_type=code\n",
            "\n",
            "Enter your authorization code:\n",
            "··········\n",
            "Mounted at /content/gdrive\n"
          ],
          "name": "stdout"
        }
      ]
    },
    {
      "metadata": {
        "id": "loYGj0lKW115",
        "colab_type": "text"
      },
      "cell_type": "markdown",
      "source": [
        "Dataset ditaruh pada folder \"TUGAS_SISREK\" (tanpa tanda kutip) dan di dalamnya terdapat folder data yang berisi data gambar serta dua buah file .npy yang memuat *array* dataset dan label."
      ]
    },
    {
      "metadata": {
        "id": "y96tcU3VaX6X",
        "colab_type": "code",
        "outputId": "e518cd64-a3f5-435f-c84f-f43e83351ad8",
        "colab": {
          "base_uri": "https://localhost:8080/",
          "height": 34
        }
      },
      "cell_type": "code",
      "source": [
        "!ls \"/content/gdrive/My Drive/TUGAS_SISREK\""
      ],
      "execution_count": 0,
      "outputs": [
        {
          "output_type": "stream",
          "text": [
            "data  dataset.npy  label.npy\n"
          ],
          "name": "stdout"
        }
      ]
    },
    {
      "metadata": {
        "id": "bdZv0r33YRbi",
        "colab_type": "text"
      },
      "cell_type": "markdown",
      "source": [
        "Import library yang dibutuhkan. Arsitektur VGG16 dibuat secara mandiri menggunakan library Keras. "
      ]
    },
    {
      "metadata": {
        "id": "KRhysylR58Fr",
        "colab_type": "code",
        "colab": {}
      },
      "cell_type": "code",
      "source": [
        "import numpy as np\n",
        "from sklearn.model_selection import train_test_split\n",
        "import matplotlib.pyplot as plt\n",
        "import cv2\n",
        "%matplotlib inline\n",
        "\n",
        "from keras.models import Sequential\n",
        "from keras.layers.core import Dense, Dropout, Activation, Flatten\n",
        "from keras.layers.convolutional import Conv2D\n",
        "from keras.layers.pooling import MaxPooling2D\n",
        "from keras.layers.normalization import BatchNormalization\n",
        "from keras.utils import np_utils\n",
        "from keras.optimizers import SGD"
      ],
      "execution_count": 0,
      "outputs": []
    },
    {
      "metadata": {
        "id": "KvXaAir_EH9w",
        "colab_type": "text"
      },
      "cell_type": "markdown",
      "source": [
        "### 1. Preprocessing data\n",
        "Sebelum memulai pembangunan model, data diproses terlebih dahulu untuk memenuhi spesifikasi *input* dari VGG16. File .npy memuat array gambar berukuran 21287 dan setiap gambar berukuran 84x78x3 pixel serta memiliki label yang berjumlah 6. Arsitektur VGG16 memerlukan input gambar berukuran 224x224x3, sehingga diperlukan *resize* terhadap masing-masing gambar."
      ]
    },
    {
      "metadata": {
        "id": "fwoUGwt_ocAw",
        "colab_type": "code",
        "colab": {}
      },
      "cell_type": "code",
      "source": [
        "def label_to_num(label):\n",
        "  '''\n",
        "    Fungsi untuk melakukan konversi label dari string ke angka\n",
        "  '''\n",
        "  \n",
        "  label_index = []\n",
        "  fruits = ['apple', 'banana', 'lemon', 'lime', 'orange', 'peach', 'pear']\n",
        "\n",
        "  for i in range(len(label)):\n",
        "    if (label[i] == fruits[0]):\n",
        "      label_index.append('0')\n",
        "    elif (label[i] == fruits[1]):\n",
        "      label_index.append('1')\n",
        "    elif (label[i] == fruits[2]):\n",
        "      label_index.append('2')\n",
        "    elif (label[i] == fruits[3]):\n",
        "      label_index.append('3')\n",
        "    elif (label[i] == fruits[4]):\n",
        "      label_index.append('4')\n",
        "    elif (label[i] == fruits[5]):\n",
        "      label_index.append('5')\n",
        "    elif (label[i] == fruits[6]):\n",
        "      label_index.append('6')\n",
        "  \n",
        "  return label_index"
      ],
      "execution_count": 0,
      "outputs": []
    },
    {
      "metadata": {
        "id": "ZHLiTDEuaWRB",
        "colab_type": "text"
      },
      "cell_type": "markdown",
      "source": [
        "Load dataset dan label yang dibutuhkan. Jika file berada di *storage* lainnya, ganti variabel path_dataset dan path_label yang sesuai dengan tempat menyimpan dataset."
      ]
    },
    {
      "metadata": {
        "id": "U8AC9Y6qLXF3",
        "colab_type": "code",
        "colab": {}
      },
      "cell_type": "code",
      "source": [
        "path_dataset = '/content/gdrive/My Drive/TUGAS_SISREK/dataset.npy'\n",
        "path_label = '/content/gdrive/My Drive/TUGAS_SISREK/label.npy'\n",
        "\n",
        "dataset = np.load(path_dataset)\n",
        "label = np.load(path_label)"
      ],
      "execution_count": 0,
      "outputs": []
    },
    {
      "metadata": {
        "id": "4tHL6g74arAw",
        "colab_type": "text"
      },
      "cell_type": "markdown",
      "source": [
        "Lakukan plot gambar untuk memastikan bahwa dataset dan label telah diakses dengan benar."
      ]
    },
    {
      "metadata": {
        "id": "9kLerXacj-Rz",
        "colab_type": "code",
        "outputId": "d45d599e-22a0-4ffc-cac3-b72fd63178fe",
        "colab": {
          "base_uri": "https://localhost:8080/",
          "height": 280
        }
      },
      "cell_type": "code",
      "source": [
        "# Show image data\n",
        "plt.imshow(dataset[3])\n",
        "plt.title(label[3])\n",
        "plt.show()"
      ],
      "execution_count": 0,
      "outputs": [
        {
          "output_type": "display_data",
          "data": {
            "image/png": "[encoded data removed]",
            "text/plain": [
              "<matplotlib.figure.Figure at 0x7f300e83bbe0>"
            ]
          },
          "metadata": {
            "tags": []
          }
        }
      ]
    },
    {
      "metadata": {
        "id": "9mV1RPK9a2QU",
        "colab_type": "text"
      },
      "cell_type": "markdown",
      "source": [
        "Untuk memenuhi spesifikasi input VGG16, dilakukan *resize* pada tiap-tiap gambar dengan ukuran 224x224x3."
      ]
    },
    {
      "metadata": {
        "id": "mcEoCW3Gtl5F",
        "colab_type": "code",
        "colab": {}
      },
      "cell_type": "code",
      "source": [
        "# resize image into 224x224 pixel\n",
        "img_data = []\n",
        "for i in range(len(dataset)):\n",
        "  img = cv2.resize(dataset[i], (224, 224))\n",
        "  img_data.append(img)\n",
        "\n",
        "img_data = np.asarray(img_data)\n",
        "dataset = []"
      ],
      "execution_count": 0,
      "outputs": []
    },
    {
      "metadata": {
        "id": "6sHNZ0GibRsN",
        "colab_type": "text"
      },
      "cell_type": "markdown",
      "source": [
        "Konversi label dengan tipe data *string* menjadi *integer* yang nantinya diubah menjadi *categorical* sesuai dengan pra-syarat model."
      ]
    },
    {
      "metadata": {
        "id": "b4frMTI1oy3R",
        "colab_type": "code",
        "colab": {}
      },
      "cell_type": "code",
      "source": [
        "label_index = label_to_num(label)\n",
        "label_index = np.asarray(label_index)"
      ],
      "execution_count": 0,
      "outputs": []
    },
    {
      "metadata": {
        "id": "UIviT8ylbjt0",
        "colab_type": "text"
      },
      "cell_type": "markdown",
      "source": [
        "Karena data yang digunakan masih berurutan, dilakukan pengacakan terhadap data tersebut. Fungsi dari pengacakan data tersebut agar model dapat mempelajari label yang bervariasi dan menghindari terjadinya *overfit*."
      ]
    },
    {
      "metadata": {
        "id": "qVHItZdTpeYY",
        "colab_type": "code",
        "colab": {}
      },
      "cell_type": "code",
      "source": [
        "# shuffle dataset\n",
        "shuffle_index = np.random.permutation(21287)\n",
        "img_data, label_index = img_data[shuffle_index], label_index[shuffle_index]"
      ],
      "execution_count": 0,
      "outputs": []
    },
    {
      "metadata": {
        "id": "YhQva0rpb9eg",
        "colab_type": "text"
      },
      "cell_type": "markdown",
      "source": [
        "Label diubah menjadi *categorical* karena model hanya mampu menerima label dengan inputan 0 atau 1"
      ]
    },
    {
      "metadata": {
        "id": "hKy4nOngrwnd",
        "colab_type": "code",
        "colab": {}
      },
      "cell_type": "code",
      "source": [
        "# change label to categorical\n",
        "label_index = np_utils.to_categorical(label_index)"
      ],
      "execution_count": 0,
      "outputs": []
    },
    {
      "metadata": {
        "id": "Vh69woijxU8t",
        "colab_type": "code",
        "outputId": "6c0ae158-d544-4467-bd3d-e9aab61f51f4",
        "colab": {
          "base_uri": "https://localhost:8080/",
          "height": 34
        }
      },
      "cell_type": "code",
      "source": [
        "# check array size of image\n",
        "img_data.shape"
      ],
      "execution_count": 0,
      "outputs": [
        {
          "output_type": "execute_result",
          "data": {
            "text/plain": [
              "(21287, 224, 224, 3)"
            ]
          },
          "metadata": {
            "tags": []
          },
          "execution_count": 11
        }
      ]
    },
    {
      "metadata": {
        "id": "i_pO-yOElKWs",
        "colab_type": "text"
      },
      "cell_type": "markdown",
      "source": [
        "*Split* data menjadi data train dan data test yang nantinya digunakan untuk memvalidasi data tersebut."
      ]
    },
    {
      "metadata": {
        "id": "jhg8tJGmy5op",
        "colab_type": "code",
        "outputId": "f0e0e924-a002-4b86-8aac-9d2ad558f62e",
        "colab": {
          "base_uri": "https://localhost:8080/",
          "height": 34
        }
      },
      "cell_type": "code",
      "source": [
        "# split data into data train and data test\n",
        "X_train, X_test, y_train, y_test = train_test_split(img_data, label_index, test_size=0.33, shuffle=False)\n",
        "print(X_train.shape, y_train.shape, X_test.shape, y_test.shape)"
      ],
      "execution_count": 0,
      "outputs": [
        {
          "output_type": "stream",
          "text": [
            "(14262, 224, 224, 3) (14262, 7) (7025, 224, 224, 3) (7025, 7)\n"
          ],
          "name": "stdout"
        }
      ]
    },
    {
      "metadata": {
        "id": "0Em_sFyXqT3R",
        "colab_type": "text"
      },
      "cell_type": "markdown",
      "source": [
        "### 2. Model Definition\n",
        "\n",
        "![VGG16 Model Architecture](https://www.pyimagesearch.com/wp-content/uploads/2017/03/imagenet_vgg16.png)\n",
        "\n",
        "Model yang digunakan yaitu VGG16. Model tersebut cenderung sederhana dan eksekusi tiap layer secara *sequential*. Dengan menggunakan 3x3 *convolutional layers* dan disusun secara bertumpuk. Layer tersebut juga direduksi menggunakan *max pooling layer*, dilanjutkan dengan menggunakan *fully-connected layers* berukuran 4096, lalu dilanjutkan oleh *softmax classifier* untuk mendapatkan kelas yang sesuai dengan label."
      ]
    },
    {
      "metadata": {
        "id": "o-mZrIH-qX-0",
        "colab_type": "code",
        "colab": {}
      },
      "cell_type": "code",
      "source": [
        "model = Sequential()\n",
        "\n",
        "model.add(Conv2D(64, 3, activation='relu', input_shape=(224,224,3)))\n",
        "model.add(Conv2D(64, 3, activation='relu'))\n",
        "model.add(MaxPooling2D(pool_size=(2,2)))\n",
        "model.add(BatchNormalization())\n",
        "\n",
        "model.add(Conv2D(128, 3, activation='relu'))\n",
        "model.add(Conv2D(128, 3, activation='relu'))\n",
        "model.add(MaxPooling2D(pool_size=(2,2)))\n",
        "model.add(BatchNormalization())\n",
        "\n",
        "model.add(Conv2D(256, 3, activation='relu'))\n",
        "model.add(Conv2D(256, 3, activation='relu'))\n",
        "model.add(Conv2D(256, 3, activation='relu'))\n",
        "model.add(MaxPooling2D(pool_size=(2,2)))\n",
        "model.add(BatchNormalization())\n",
        "\n",
        "model.add(Conv2D(512, 3, activation='relu'))\n",
        "model.add(Conv2D(512, 3, activation='relu'))\n",
        "model.add(Conv2D(512, 3, activation='relu'))\n",
        "model.add(MaxPooling2D(pool_size=(2,2)))\n",
        "model.add(BatchNormalization())\n",
        "\n",
        "model.add(Conv2D(512, 3, activation='relu'))\n",
        "model.add(Conv2D(512, 3, activation='relu'))\n",
        "model.add(Conv2D(512, 3, activation='relu'))\n",
        "model.add(MaxPooling2D(pool_size=(2,2)))\n",
        "model.add(BatchNormalization())\n",
        "\n",
        "model.add(Flatten())\n",
        "model.add(Dense(4096, activation='relu'))\n",
        "model.add(Dense(4096, activation='relu'))\n",
        "model.add(Dense(1000, activation='relu'))\n",
        "model.add(Dense(7, activation='softmax', name='predictions'))"
      ],
      "execution_count": 0,
      "outputs": []
    },
    {
      "metadata": {
        "id": "ePemYS-XpxtS",
        "colab_type": "text"
      },
      "cell_type": "markdown",
      "source": [
        "Setelah model didefinisikan, model dikompilasi dan *optimizer* yang digunakan yaitu SGD."
      ]
    },
    {
      "metadata": {
        "id": "KpMXdWGobceY",
        "colab_type": "code",
        "colab": {}
      },
      "cell_type": "code",
      "source": [
        "model.compile(loss='categorical_crossentropy', optimizer='sgd', metrics=['accuracy'])"
      ],
      "execution_count": 0,
      "outputs": []
    },
    {
      "metadata": {
        "id": "JifbVqZR0kn8",
        "colab_type": "text"
      },
      "cell_type": "markdown",
      "source": [
        "### 3. Training Model\n",
        "Model ditraining dengan *epochs* sebesar 50"
      ]
    },
    {
      "metadata": {
        "id": "TJUsM0qnbqtR",
        "colab_type": "code",
        "outputId": "35736e01-6256-4c92-e177-6cec5a90c99a",
        "colab": {
          "base_uri": "https://localhost:8080/",
          "height": 1751
        }
      },
      "cell_type": "code",
      "source": [
        "model.fit(X_train, y_train, batch_size=32, epochs=50, validation_split=0.33)"
      ],
      "execution_count": 0,
      "outputs": [
        {
          "output_type": "stream",
          "text": [
            "Train on 9555 samples, validate on 4707 samples\n",
            "Epoch 1/50\n",
            "9555/9555 [==============================] - 286s 30ms/step - loss: 0.3459 - acc: 0.8851 - val_loss: 0.0529 - val_acc: 0.9921\n",
            "Epoch 2/50\n",
            "9555/9555 [==============================] - 266s 28ms/step - loss: 0.0667 - acc: 0.9814 - val_loss: 0.9588 - val_acc: 0.7092\n",
            "Epoch 3/50\n",
            "9555/9555 [==============================] - 266s 28ms/step - loss: 0.0248 - acc: 0.9932 - val_loss: 0.2690 - val_acc: 0.9405\n",
            "Epoch 4/50\n",
            "9555/9555 [==============================] - 266s 28ms/step - loss: 0.0117 - acc: 0.9970 - val_loss: 0.2895 - val_acc: 0.9093\n",
            "Epoch 5/50\n",
            "9555/9555 [==============================] - 266s 28ms/step - loss: 0.0118 - acc: 0.9970 - val_loss: 0.0509 - val_acc: 0.9843\n",
            "Epoch 6/50\n",
            "9555/9555 [==============================] - 266s 28ms/step - loss: 0.0049 - acc: 0.9984 - val_loss: 0.2976 - val_acc: 0.9074\n",
            "Epoch 7/50\n",
            "9555/9555 [==============================] - 266s 28ms/step - loss: 0.0050 - acc: 0.9986 - val_loss: 0.0019 - val_acc: 0.9994\n",
            "Epoch 8/50\n",
            "9555/9555 [==============================] - 266s 28ms/step - loss: 0.0062 - acc: 0.9986 - val_loss: 6.5145e-04 - val_acc: 1.0000\n",
            "Epoch 9/50\n",
            "9555/9555 [==============================] - 266s 28ms/step - loss: 0.0041 - acc: 0.9987 - val_loss: 2.3827e-04 - val_acc: 1.0000\n",
            "Epoch 10/50\n",
            "9555/9555 [==============================] - 266s 28ms/step - loss: 0.0021 - acc: 0.9995 - val_loss: 1.5551e-04 - val_acc: 1.0000\n",
            "Epoch 11/50\n",
            "9555/9555 [==============================] - 266s 28ms/step - loss: 6.6717e-04 - acc: 1.0000 - val_loss: 1.0185e-04 - val_acc: 1.0000\n",
            "Epoch 12/50\n",
            "9555/9555 [==============================] - 266s 28ms/step - loss: 0.0011 - acc: 0.9998 - val_loss: 8.7401e-05 - val_acc: 1.0000\n",
            "Epoch 13/50\n",
            "9555/9555 [==============================] - 266s 28ms/step - loss: 0.0012 - acc: 0.9999 - val_loss: 8.6539e-05 - val_acc: 1.0000\n",
            "Epoch 14/50\n",
            "9555/9555 [==============================] - 266s 28ms/step - loss: 9.7649e-04 - acc: 0.9998 - val_loss: 9.8745e-04 - val_acc: 1.0000\n",
            "Epoch 15/50\n",
            "9555/9555 [==============================] - 266s 28ms/step - loss: 0.0072 - acc: 0.9977 - val_loss: 2.7773e-04 - val_acc: 1.0000\n",
            "Epoch 16/50\n",
            "9555/9555 [==============================] - 266s 28ms/step - loss: 0.0175 - acc: 0.9964 - val_loss: 1.3427 - val_acc: 0.7829\n",
            "Epoch 17/50\n",
            "9555/9555 [==============================] - 266s 28ms/step - loss: 0.0073 - acc: 0.9980 - val_loss: 0.0027 - val_acc: 0.9998\n",
            "Epoch 18/50\n",
            "9555/9555 [==============================] - 266s 28ms/step - loss: 0.0013 - acc: 0.9998 - val_loss: 1.2868e-04 - val_acc: 1.0000\n",
            "Epoch 19/50\n",
            "9555/9555 [==============================] - 266s 28ms/step - loss: 6.7865e-04 - acc: 1.0000 - val_loss: 1.6227e-04 - val_acc: 1.0000\n",
            "Epoch 20/50\n",
            "9555/9555 [==============================] - 266s 28ms/step - loss: 5.9021e-04 - acc: 1.0000 - val_loss: 7.0689e-05 - val_acc: 1.0000\n",
            "Epoch 21/50\n",
            "9555/9555 [==============================] - 266s 28ms/step - loss: 9.2348e-04 - acc: 0.9998 - val_loss: 1.0426e-04 - val_acc: 1.0000\n",
            "Epoch 22/50\n",
            "9555/9555 [==============================] - 266s 28ms/step - loss: 6.1934e-04 - acc: 1.0000 - val_loss: 6.8375e-05 - val_acc: 1.0000\n",
            "Epoch 23/50\n",
            "9555/9555 [==============================] - 266s 28ms/step - loss: 0.0013 - acc: 0.9999 - val_loss: 0.0013 - val_acc: 1.0000\n",
            "Epoch 24/50\n",
            "9555/9555 [==============================] - 265s 28ms/step - loss: 0.0014 - acc: 0.9998 - val_loss: 5.0541e-05 - val_acc: 1.0000\n",
            "Epoch 25/50\n",
            "9555/9555 [==============================] - 265s 28ms/step - loss: 6.7578e-04 - acc: 0.9998 - val_loss: 6.8182e-05 - val_acc: 1.0000\n",
            "Epoch 26/50\n",
            "9555/9555 [==============================] - 265s 28ms/step - loss: 6.7243e-04 - acc: 0.9999 - val_loss: 4.5527e-05 - val_acc: 1.0000\n",
            "Epoch 27/50\n",
            "9555/9555 [==============================] - 265s 28ms/step - loss: 0.0013 - acc: 0.9997 - val_loss: 4.2753e-05 - val_acc: 1.0000\n",
            "Epoch 28/50\n",
            "9555/9555 [==============================] - 265s 28ms/step - loss: 5.3849e-04 - acc: 0.9999 - val_loss: 4.8043e-05 - val_acc: 1.0000\n",
            "Epoch 29/50\n",
            "9555/9555 [==============================] - 265s 28ms/step - loss: 0.0015 - acc: 0.9994 - val_loss: 9.0737e-05 - val_acc: 1.0000\n",
            "Epoch 30/50\n",
            "9555/9555 [==============================] - 266s 28ms/step - loss: 0.0015 - acc: 0.9999 - val_loss: 7.4220e-05 - val_acc: 1.0000\n",
            "Epoch 31/50\n",
            "9555/9555 [==============================] - 267s 28ms/step - loss: 2.0119e-04 - acc: 1.0000 - val_loss: 3.0906e-05 - val_acc: 1.0000\n",
            "Epoch 32/50\n",
            "9555/9555 [==============================] - 267s 28ms/step - loss: 0.0013 - acc: 0.9996 - val_loss: 9.1221e-05 - val_acc: 1.0000\n",
            "Epoch 33/50\n",
            "9555/9555 [==============================] - 267s 28ms/step - loss: 2.0981e-04 - acc: 1.0000 - val_loss: 2.6415e-05 - val_acc: 1.0000\n",
            "Epoch 34/50\n",
            "9555/9555 [==============================] - 267s 28ms/step - loss: 2.2544e-04 - acc: 1.0000 - val_loss: 2.4857e-05 - val_acc: 1.0000\n",
            "Epoch 35/50\n",
            "9555/9555 [==============================] - 267s 28ms/step - loss: 6.2478e-04 - acc: 0.9998 - val_loss: 2.8967e-05 - val_acc: 1.0000\n",
            "Epoch 36/50\n",
            "9555/9555 [==============================] - 267s 28ms/step - loss: 1.4682e-04 - acc: 1.0000 - val_loss: 2.2256e-05 - val_acc: 1.0000\n",
            "Epoch 37/50\n",
            "9555/9555 [==============================] - 267s 28ms/step - loss: 1.3460e-04 - acc: 1.0000 - val_loss: 1.9770e-05 - val_acc: 1.0000\n",
            "Epoch 38/50\n",
            "9555/9555 [==============================] - 267s 28ms/step - loss: 0.0107 - acc: 0.9972 - val_loss: 0.2854 - val_acc: 0.9652\n",
            "Epoch 39/50\n",
            "9555/9555 [==============================] - 268s 28ms/step - loss: 0.0128 - acc: 0.9960 - val_loss: 3.4234e-04 - val_acc: 1.0000\n",
            "Epoch 40/50\n",
            "9555/9555 [==============================] - 267s 28ms/step - loss: 8.2033e-04 - acc: 0.9998 - val_loss: 8.4425e-05 - val_acc: 1.0000\n",
            "Epoch 41/50\n",
            "9555/9555 [==============================] - 267s 28ms/step - loss: 6.1215e-04 - acc: 0.9999 - val_loss: 9.7675e-05 - val_acc: 1.0000\n",
            "Epoch 42/50\n",
            "9555/9555 [==============================] - 267s 28ms/step - loss: 5.5905e-04 - acc: 0.9999 - val_loss: 5.4953e-05 - val_acc: 1.0000\n",
            "Epoch 43/50\n",
            "9555/9555 [==============================] - 267s 28ms/step - loss: 5.6780e-04 - acc: 0.9999 - val_loss: 1.7432 - val_acc: 0.7115\n",
            "Epoch 44/50\n",
            "9555/9555 [==============================] - 267s 28ms/step - loss: 0.0027 - acc: 0.9994 - val_loss: 1.0140e-04 - val_acc: 1.0000\n",
            "Epoch 45/50\n",
            "9555/9555 [==============================] - 267s 28ms/step - loss: 4.8263e-04 - acc: 0.9999 - val_loss: 5.8606e-05 - val_acc: 1.0000\n",
            "Epoch 46/50\n",
            "9555/9555 [==============================] - 267s 28ms/step - loss: 2.7790e-04 - acc: 1.0000 - val_loss: 2.4658e-05 - val_acc: 1.0000\n",
            "Epoch 47/50\n",
            "9555/9555 [==============================] - 267s 28ms/step - loss: 6.2508e-04 - acc: 0.9998 - val_loss: 3.8075e-05 - val_acc: 1.0000\n",
            "Epoch 48/50\n",
            "9555/9555 [==============================] - 267s 28ms/step - loss: 9.1761e-04 - acc: 0.9997 - val_loss: 2.1552e-04 - val_acc: 1.0000\n",
            "Epoch 49/50\n",
            "9555/9555 [==============================] - 267s 28ms/step - loss: 0.0015 - acc: 0.9997 - val_loss: 1.1490 - val_acc: 0.8001\n",
            "Epoch 50/50\n",
            "9555/9555 [==============================] - 267s 28ms/step - loss: 0.0032 - acc: 0.9994 - val_loss: 2.1295e-04 - val_acc: 1.0000\n"
          ],
          "name": "stdout"
        },
        {
          "output_type": "execute_result",
          "data": {
            "text/plain": [
              "<keras.callbacks.History at 0x7f300e7d3a20>"
            ]
          },
          "metadata": {
            "tags": []
          },
          "execution_count": 16
        }
      ]
    },
    {
      "metadata": {
        "id": "cTpMB4d5qL39",
        "colab_type": "text"
      },
      "cell_type": "markdown",
      "source": [
        "Hasil dari proses training tersebut didapatkan hasil prediksi, nilai *loss* dan akurasi dari model. Akurasi yang didapat dari proses training tersebut sebesar 100%."
      ]
    },
    {
      "metadata": {
        "id": "TRgBuMN8M1tI",
        "colab_type": "code",
        "outputId": "50ba5ef1-4f88-4d71-8af4-830f0c949854",
        "colab": {
          "base_uri": "https://localhost:8080/",
          "height": 68
        }
      },
      "cell_type": "code",
      "source": [
        "loss, accuracy = model.evaluate(X_test, y_test)\n",
        "print('Model loss : %s' %loss)\n",
        "print('Model Accuracy : %s' %accuracy)"
      ],
      "execution_count": 0,
      "outputs": [
        {
          "output_type": "stream",
          "text": [
            "7025/7025 [==============================] - 60s 9ms/step\n",
            "Model loss : 0.000530054899106267\n",
            "Model Accuracy : 1.0\n"
          ],
          "name": "stdout"
        }
      ]
    },
    {
      "metadata": {
        "id": "CM3WpAoe0ow-",
        "colab_type": "text"
      },
      "cell_type": "markdown",
      "source": [
        "### 4. Predict and Plotting Model\n",
        "Model diprediksi dari data testing yang telah didefinisikan sebelumnya. Hasil prediksi tersebut berupa nilai 0-6 yang merepresentasikan label dari tiap-tiap data. Agar hasil prediksi dapat menampilkan label sesuai dengan prediksi yang dihasilkan, diperlukan konversi dari nilai 0-6 menjadi label data yang bersesuaian."
      ]
    },
    {
      "metadata": {
        "id": "-2bzrxSJNipi",
        "colab_type": "code",
        "colab": {}
      },
      "cell_type": "code",
      "source": [
        "# predict image\n",
        "image_predict = model.predict(X_test).argmax(-1)"
      ],
      "execution_count": 0,
      "outputs": []
    },
    {
      "metadata": {
        "id": "bhTvXPMsq7tg",
        "colab_type": "text"
      },
      "cell_type": "markdown",
      "source": [
        "Enam pertama hasil dari prediksi ditampilkan untuk memvalidasi apakah prediksi dari model tersebut telah sesuai dengan data testing yang diberikan."
      ]
    },
    {
      "metadata": {
        "id": "bRSnt2MwPl4t",
        "colab_type": "code",
        "outputId": "a73587b6-34bd-4a6d-9227-2ea49df0754a",
        "colab": {
          "base_uri": "https://localhost:8080/",
          "height": 97
        }
      },
      "cell_type": "code",
      "source": [
        "# plot image\n",
        "columns = 7\n",
        "rows = 1\n",
        "\n",
        "for i in range(1, columns):\n",
        "  img = X_test[i]\n",
        "  if (image_predict[i] == 0):\n",
        "    label_predict = 'apple'\n",
        "  elif (image_predict[i] == 1):\n",
        "    label_predict = 'banana'\n",
        "  elif (image_predict[i] == 2):\n",
        "    label_predict = 'lemon'\n",
        "  elif (image_predict[i] == 3):\n",
        "    label_predict = 'lime'\n",
        "  elif (image_predict[i] == 4):\n",
        "    label_predict = 'orange'\n",
        "  elif (image_predict[i] == 5):\n",
        "    label_predict = 'peach'\n",
        "  elif (image_predict[i] == 6):\n",
        "    label_predict = 'pear'\n",
        "  \n",
        "  plt.subplot(rows, columns, i)\n",
        "  plt.imshow(img)\n",
        "  plt.text(0, 0, s=label_predict, color='black', bbox=dict(facecolor='white', alpha=1))\n",
        "  \n",
        "plt.show()"
      ],
      "execution_count": 0,
      "outputs": [
        {
          "output_type": "display_data",
          "data": {
            "image/png": "[encoded data removed]",
            "text/plain": [
              "<matplotlib.figure.Figure at 0x7f3002f52860>"
            ]
          },
          "metadata": {
            "tags": []
          }
        }
      ]
    },
    {
      "metadata": {
        "id": "oCnH2QohXUGh",
        "colab_type": "text"
      },
      "cell_type": "markdown",
      "source": [
        "### 5. Conclusion\n",
        "Berdasarkan percobaan diatas, didapatkan akurasi sebesar 100% dengan menggunakan *fruit dataset* dan VGG16 model. Hasil tersebut setara dengan tugas 3 yang menggunakan descriptor HoG dan kNN. Namun, komputasi menggunakan VGG16 lebih lama karena bergantung dari banyaknya layer yang digunakan dan juga *epochs*"
      ]
    },
    {
      "metadata": {
        "id": "Nf6prF83mAqm",
        "colab_type": "text"
      },
      "cell_type": "markdown",
      "source": [
        "### 6. Future Works\n",
        "Dengan mengganti arsitektur CNN yang lebih ringan seperti SqueezeNet atau DenseNet diharapkan dapat mengurangi waktu komputasi yang cenderung berat jika menggunakan VGG16"
      ]
    }
  ]
}